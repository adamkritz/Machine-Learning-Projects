{
  "nbformat": 4,
  "nbformat_minor": 0,
  "metadata": {
    "colab": {
      "name": "Bach Project.ipynb",
      "provenance": [],
      "collapsed_sections": []
    },
    "kernelspec": {
      "display_name": "Python 3",
      "name": "python3"
    }
  },
  "cells": [
    {
      "cell_type": "markdown",
      "metadata": {
        "id": "CsFaPgRU0B_r"
      },
      "source": [
        "##Adam Kritz Bach Project"
      ]
    },
    {
      "cell_type": "markdown",
      "metadata": {
        "id": "EVYCY0lW0X0q"
      },
      "source": [
        "Welcome to my Bach Project. I know absolutely nothing about notes and chords. I played violin for 1 year in first grade, as it was a required course in my private school, and I absolutely despised it. From that year on I was permanently scarred, and I haven't touched a musical instrument since.\r\n",
        "\r\n",
        "Luckily, I do not need to actually know about music to make a classifier. The data could be about anything, and I could still make a classifier for it. Which is exactly what I intend to do. \r\n",
        "\r\n",
        "Contents:\r\n",
        "\r\n",
        "1. Get that file in\r\n",
        "2. Explore the data for a bit\r\n",
        "3. Split the data\r\n",
        "4. KNN classifier\r\n",
        "5. Naive Bayes Classifer\r\n",
        "6. Decision Tree classifier\r\n",
        "7. Multi-Layer Perceptron Classifier\r\n",
        "8. Random Forest Classifier\r\n",
        "9. Conclusion"
      ]
    },
    {
      "cell_type": "markdown",
      "metadata": {
        "id": "Fd8pn6mq1aCL"
      },
      "source": [
        "#Read File\r\n",
        "\r\n",
        "Here I import the file and take a look at the first few rows to see what I am working with. There is nothing really of note to see here, as I already know the columns I will be running the classifier on from the directions. "
      ]
    },
    {
      "cell_type": "code",
      "metadata": {
        "colab": {
          "base_uri": "https://localhost:8080/"
        },
        "id": "ZzIgBv16p_Ha",
        "outputId": "49633b73-ea54-4de8-8048-d317c1779107"
      },
      "source": [
        "import pandas as pd\r\n",
        "!wget 'https://raw.githubusercontent.com/zacharski/ml-class/master/data/bach.zip' \r\n",
        "!unzip 'bach.zip'"
      ],
      "execution_count": 4,
      "outputs": [
        {
          "output_type": "stream",
          "text": [
            "--2021-02-16 05:12:35--  https://raw.githubusercontent.com/zacharski/ml-class/master/data/bach.zip\n",
            "Resolving raw.githubusercontent.com (raw.githubusercontent.com)... 185.199.108.133, 185.199.109.133, 185.199.110.133, ...\n",
            "Connecting to raw.githubusercontent.com (raw.githubusercontent.com)|185.199.108.133|:443... connected.\n",
            "HTTP request sent, awaiting response... 200 OK\n",
            "Length: 41761 (41K) [application/zip]\n",
            "Saving to: ‘bach.zip’\n",
            "\n",
            "bach.zip            100%[===================>]  40.78K  --.-KB/s    in 0.002s  \n",
            "\n",
            "2021-02-16 05:12:35 (20.8 MB/s) - ‘bach.zip’ saved [41761/41761]\n",
            "\n",
            "Archive:  bach.zip\n",
            "  inflating: bach.csv                \n"
          ],
          "name": "stdout"
        }
      ]
    },
    {
      "cell_type": "code",
      "metadata": {
        "id": "dQvFdD3_orDa"
      },
      "source": [
        "bach = pd.read_csv('bach.csv')"
      ],
      "execution_count": 5,
      "outputs": []
    },
    {
      "cell_type": "code",
      "metadata": {
        "colab": {
          "base_uri": "https://localhost:8080/",
          "height": 195
        },
        "id": "t-YgkwIVn0AD",
        "outputId": "0942e05c-4f63-488f-effe-6b459f208849"
      },
      "source": [
        "bach.head()"
      ],
      "execution_count": 6,
      "outputs": [
        {
          "output_type": "execute_result",
          "data": {
            "text/html": [
              "<div>\n",
              "<style scoped>\n",
              "    .dataframe tbody tr th:only-of-type {\n",
              "        vertical-align: middle;\n",
              "    }\n",
              "\n",
              "    .dataframe tbody tr th {\n",
              "        vertical-align: top;\n",
              "    }\n",
              "\n",
              "    .dataframe thead th {\n",
              "        text-align: right;\n",
              "    }\n",
              "</style>\n",
              "<table border=\"1\" class=\"dataframe\">\n",
              "  <thead>\n",
              "    <tr style=\"text-align: right;\">\n",
              "      <th></th>\n",
              "      <th>choral_ID</th>\n",
              "      <th>event_number</th>\n",
              "      <th>C</th>\n",
              "      <th>C#</th>\n",
              "      <th>D</th>\n",
              "      <th>D#</th>\n",
              "      <th>E</th>\n",
              "      <th>F</th>\n",
              "      <th>F#</th>\n",
              "      <th>G</th>\n",
              "      <th>G#</th>\n",
              "      <th>A</th>\n",
              "      <th>A#</th>\n",
              "      <th>B</th>\n",
              "      <th>bass</th>\n",
              "      <th>meter</th>\n",
              "      <th>chord_label</th>\n",
              "    </tr>\n",
              "  </thead>\n",
              "  <tbody>\n",
              "    <tr>\n",
              "      <th>0</th>\n",
              "      <td>000106b_</td>\n",
              "      <td>1</td>\n",
              "      <td>YES</td>\n",
              "      <td>NO</td>\n",
              "      <td>NO</td>\n",
              "      <td>NO</td>\n",
              "      <td>NO</td>\n",
              "      <td>YES</td>\n",
              "      <td>NO</td>\n",
              "      <td>NO</td>\n",
              "      <td>NO</td>\n",
              "      <td>YES</td>\n",
              "      <td>NO</td>\n",
              "      <td>NO</td>\n",
              "      <td>F</td>\n",
              "      <td>3</td>\n",
              "      <td>F_M</td>\n",
              "    </tr>\n",
              "    <tr>\n",
              "      <th>1</th>\n",
              "      <td>000106b_</td>\n",
              "      <td>2</td>\n",
              "      <td>YES</td>\n",
              "      <td>NO</td>\n",
              "      <td>NO</td>\n",
              "      <td>NO</td>\n",
              "      <td>YES</td>\n",
              "      <td>NO</td>\n",
              "      <td>NO</td>\n",
              "      <td>YES</td>\n",
              "      <td>NO</td>\n",
              "      <td>NO</td>\n",
              "      <td>NO</td>\n",
              "      <td>NO</td>\n",
              "      <td>E</td>\n",
              "      <td>5</td>\n",
              "      <td>C_M</td>\n",
              "    </tr>\n",
              "    <tr>\n",
              "      <th>2</th>\n",
              "      <td>000106b_</td>\n",
              "      <td>3</td>\n",
              "      <td>YES</td>\n",
              "      <td>NO</td>\n",
              "      <td>NO</td>\n",
              "      <td>NO</td>\n",
              "      <td>YES</td>\n",
              "      <td>NO</td>\n",
              "      <td>NO</td>\n",
              "      <td>YES</td>\n",
              "      <td>NO</td>\n",
              "      <td>NO</td>\n",
              "      <td>NO</td>\n",
              "      <td>NO</td>\n",
              "      <td>E</td>\n",
              "      <td>2</td>\n",
              "      <td>C_M</td>\n",
              "    </tr>\n",
              "    <tr>\n",
              "      <th>3</th>\n",
              "      <td>000106b_</td>\n",
              "      <td>4</td>\n",
              "      <td>YES</td>\n",
              "      <td>NO</td>\n",
              "      <td>NO</td>\n",
              "      <td>NO</td>\n",
              "      <td>NO</td>\n",
              "      <td>YES</td>\n",
              "      <td>NO</td>\n",
              "      <td>NO</td>\n",
              "      <td>NO</td>\n",
              "      <td>YES</td>\n",
              "      <td>NO</td>\n",
              "      <td>NO</td>\n",
              "      <td>F</td>\n",
              "      <td>3</td>\n",
              "      <td>F_M</td>\n",
              "    </tr>\n",
              "    <tr>\n",
              "      <th>4</th>\n",
              "      <td>000106b_</td>\n",
              "      <td>5</td>\n",
              "      <td>YES</td>\n",
              "      <td>NO</td>\n",
              "      <td>NO</td>\n",
              "      <td>NO</td>\n",
              "      <td>NO</td>\n",
              "      <td>YES</td>\n",
              "      <td>NO</td>\n",
              "      <td>NO</td>\n",
              "      <td>NO</td>\n",
              "      <td>YES</td>\n",
              "      <td>NO</td>\n",
              "      <td>NO</td>\n",
              "      <td>F</td>\n",
              "      <td>2</td>\n",
              "      <td>F_M</td>\n",
              "    </tr>\n",
              "  </tbody>\n",
              "</table>\n",
              "</div>"
            ],
            "text/plain": [
              "  choral_ID  event_number    C  C#   D  D#  ...    A  A#   B bass meter chord_label\n",
              "0  000106b_             1  YES  NO  NO  NO  ...  YES  NO  NO    F     3         F_M\n",
              "1  000106b_             2  YES  NO  NO  NO  ...   NO  NO  NO    E     5         C_M\n",
              "2  000106b_             3  YES  NO  NO  NO  ...   NO  NO  NO    E     2         C_M\n",
              "3  000106b_             4  YES  NO  NO  NO  ...  YES  NO  NO    F     3         F_M\n",
              "4  000106b_             5  YES  NO  NO  NO  ...  YES  NO  NO    F     2         F_M\n",
              "\n",
              "[5 rows x 17 columns]"
            ]
          },
          "metadata": {
            "tags": []
          },
          "execution_count": 6
        }
      ]
    },
    {
      "cell_type": "markdown",
      "metadata": {
        "id": "j_1QK1ay1qza"
      },
      "source": [
        "#Explore\r\n",
        "\r\n",
        "I usually don't do a lot of exploration right off the bat when looking at data sets, instead I just work until I encounter a problem, then I go back and fix it. Otherwise it is like looking for a needle in a haystack. \r\n",
        "\r\n",
        "Here I double check to see if there are any columns I missed. There are not in this case, but I have missed columns before so it is always good to check."
      ]
    },
    {
      "cell_type": "code",
      "metadata": {
        "colab": {
          "base_uri": "https://localhost:8080/"
        },
        "id": "mmdKLmeewkdT",
        "outputId": "d59966e5-6aa6-43ab-8c85-596f2024b5a7"
      },
      "source": [
        "bach.columns"
      ],
      "execution_count": 7,
      "outputs": [
        {
          "output_type": "execute_result",
          "data": {
            "text/plain": [
              "Index(['choral_ID', 'event_number', 'C', 'C#', 'D', 'D#', 'E', 'F', 'F#', 'G',\n",
              "       'G#', 'A', 'A#', 'B', 'bass', 'meter', 'chord_label'],\n",
              "      dtype='object')"
            ]
          },
          "metadata": {
            "tags": []
          },
          "execution_count": 7
        }
      ]
    },
    {
      "cell_type": "markdown",
      "metadata": {
        "id": "LaNS-gg214cK"
      },
      "source": [
        "Here I look at a description of the data. The main row to note here is the \"unique\" row, as it lets us know how many different options there are in each row. All the different notes only have 2 options, either they are being played or they are not being played, while the \"bass\" column has 16 possible options. In this case I noticed the \"meter\" column is numerical data, while every other column is in categorical data. \r\n",
        "\r\n",
        "The \"frequency\" row is also cool, as it shows which notes are played the most and least often overall. G# is played the most overall, while A is played the least."
      ]
    },
    {
      "cell_type": "code",
      "metadata": {
        "colab": {
          "base_uri": "https://localhost:8080/",
          "height": 373
        },
        "id": "Vdr-VYbcw-HS",
        "outputId": "0e71ba20-5bc8-4f29-a4b6-22c781f7b121"
      },
      "source": [
        "bach.describe(include=\"all\")"
      ],
      "execution_count": 8,
      "outputs": [
        {
          "output_type": "execute_result",
          "data": {
            "text/html": [
              "<div>\n",
              "<style scoped>\n",
              "    .dataframe tbody tr th:only-of-type {\n",
              "        vertical-align: middle;\n",
              "    }\n",
              "\n",
              "    .dataframe tbody tr th {\n",
              "        vertical-align: top;\n",
              "    }\n",
              "\n",
              "    .dataframe thead th {\n",
              "        text-align: right;\n",
              "    }\n",
              "</style>\n",
              "<table border=\"1\" class=\"dataframe\">\n",
              "  <thead>\n",
              "    <tr style=\"text-align: right;\">\n",
              "      <th></th>\n",
              "      <th>choral_ID</th>\n",
              "      <th>event_number</th>\n",
              "      <th>C</th>\n",
              "      <th>C#</th>\n",
              "      <th>D</th>\n",
              "      <th>D#</th>\n",
              "      <th>E</th>\n",
              "      <th>F</th>\n",
              "      <th>F#</th>\n",
              "      <th>G</th>\n",
              "      <th>G#</th>\n",
              "      <th>A</th>\n",
              "      <th>A#</th>\n",
              "      <th>B</th>\n",
              "      <th>bass</th>\n",
              "      <th>meter</th>\n",
              "      <th>chord_label</th>\n",
              "    </tr>\n",
              "  </thead>\n",
              "  <tbody>\n",
              "    <tr>\n",
              "      <th>count</th>\n",
              "      <td>5665</td>\n",
              "      <td>5665.000000</td>\n",
              "      <td>5665</td>\n",
              "      <td>5665</td>\n",
              "      <td>5665</td>\n",
              "      <td>5665</td>\n",
              "      <td>5665</td>\n",
              "      <td>5665</td>\n",
              "      <td>5665</td>\n",
              "      <td>5665</td>\n",
              "      <td>5665</td>\n",
              "      <td>5665</td>\n",
              "      <td>5665</td>\n",
              "      <td>5665</td>\n",
              "      <td>5665</td>\n",
              "      <td>5665.000000</td>\n",
              "      <td>5665</td>\n",
              "    </tr>\n",
              "    <tr>\n",
              "      <th>unique</th>\n",
              "      <td>60</td>\n",
              "      <td>NaN</td>\n",
              "      <td>2</td>\n",
              "      <td>2</td>\n",
              "      <td>2</td>\n",
              "      <td>2</td>\n",
              "      <td>2</td>\n",
              "      <td>2</td>\n",
              "      <td>2</td>\n",
              "      <td>2</td>\n",
              "      <td>2</td>\n",
              "      <td>2</td>\n",
              "      <td>2</td>\n",
              "      <td>2</td>\n",
              "      <td>16</td>\n",
              "      <td>NaN</td>\n",
              "      <td>102</td>\n",
              "    </tr>\n",
              "    <tr>\n",
              "      <th>top</th>\n",
              "      <td>002908ch</td>\n",
              "      <td>NaN</td>\n",
              "      <td>NO</td>\n",
              "      <td>NO</td>\n",
              "      <td>NO</td>\n",
              "      <td>NO</td>\n",
              "      <td>NO</td>\n",
              "      <td>NO</td>\n",
              "      <td>NO</td>\n",
              "      <td>NO</td>\n",
              "      <td>NO</td>\n",
              "      <td>NO</td>\n",
              "      <td>NO</td>\n",
              "      <td>NO</td>\n",
              "      <td>D</td>\n",
              "      <td>NaN</td>\n",
              "      <td>D_M</td>\n",
              "    </tr>\n",
              "    <tr>\n",
              "      <th>freq</th>\n",
              "      <td>207</td>\n",
              "      <td>NaN</td>\n",
              "      <td>3875</td>\n",
              "      <td>4711</td>\n",
              "      <td>3300</td>\n",
              "      <td>4956</td>\n",
              "      <td>3540</td>\n",
              "      <td>4381</td>\n",
              "      <td>4253</td>\n",
              "      <td>3523</td>\n",
              "      <td>5006</td>\n",
              "      <td>3290</td>\n",
              "      <td>4644</td>\n",
              "      <td>3874</td>\n",
              "      <td>689</td>\n",
              "      <td>NaN</td>\n",
              "      <td>503</td>\n",
              "    </tr>\n",
              "    <tr>\n",
              "      <th>mean</th>\n",
              "      <td>NaN</td>\n",
              "      <td>53.374404</td>\n",
              "      <td>NaN</td>\n",
              "      <td>NaN</td>\n",
              "      <td>NaN</td>\n",
              "      <td>NaN</td>\n",
              "      <td>NaN</td>\n",
              "      <td>NaN</td>\n",
              "      <td>NaN</td>\n",
              "      <td>NaN</td>\n",
              "      <td>NaN</td>\n",
              "      <td>NaN</td>\n",
              "      <td>NaN</td>\n",
              "      <td>NaN</td>\n",
              "      <td>NaN</td>\n",
              "      <td>3.134863</td>\n",
              "      <td>NaN</td>\n",
              "    </tr>\n",
              "    <tr>\n",
              "      <th>std</th>\n",
              "      <td>NaN</td>\n",
              "      <td>37.268208</td>\n",
              "      <td>NaN</td>\n",
              "      <td>NaN</td>\n",
              "      <td>NaN</td>\n",
              "      <td>NaN</td>\n",
              "      <td>NaN</td>\n",
              "      <td>NaN</td>\n",
              "      <td>NaN</td>\n",
              "      <td>NaN</td>\n",
              "      <td>NaN</td>\n",
              "      <td>NaN</td>\n",
              "      <td>NaN</td>\n",
              "      <td>NaN</td>\n",
              "      <td>NaN</td>\n",
              "      <td>1.109710</td>\n",
              "      <td>NaN</td>\n",
              "    </tr>\n",
              "    <tr>\n",
              "      <th>min</th>\n",
              "      <td>NaN</td>\n",
              "      <td>1.000000</td>\n",
              "      <td>NaN</td>\n",
              "      <td>NaN</td>\n",
              "      <td>NaN</td>\n",
              "      <td>NaN</td>\n",
              "      <td>NaN</td>\n",
              "      <td>NaN</td>\n",
              "      <td>NaN</td>\n",
              "      <td>NaN</td>\n",
              "      <td>NaN</td>\n",
              "      <td>NaN</td>\n",
              "      <td>NaN</td>\n",
              "      <td>NaN</td>\n",
              "      <td>NaN</td>\n",
              "      <td>1.000000</td>\n",
              "      <td>NaN</td>\n",
              "    </tr>\n",
              "    <tr>\n",
              "      <th>25%</th>\n",
              "      <td>NaN</td>\n",
              "      <td>24.000000</td>\n",
              "      <td>NaN</td>\n",
              "      <td>NaN</td>\n",
              "      <td>NaN</td>\n",
              "      <td>NaN</td>\n",
              "      <td>NaN</td>\n",
              "      <td>NaN</td>\n",
              "      <td>NaN</td>\n",
              "      <td>NaN</td>\n",
              "      <td>NaN</td>\n",
              "      <td>NaN</td>\n",
              "      <td>NaN</td>\n",
              "      <td>NaN</td>\n",
              "      <td>NaN</td>\n",
              "      <td>2.000000</td>\n",
              "      <td>NaN</td>\n",
              "    </tr>\n",
              "    <tr>\n",
              "      <th>50%</th>\n",
              "      <td>NaN</td>\n",
              "      <td>48.000000</td>\n",
              "      <td>NaN</td>\n",
              "      <td>NaN</td>\n",
              "      <td>NaN</td>\n",
              "      <td>NaN</td>\n",
              "      <td>NaN</td>\n",
              "      <td>NaN</td>\n",
              "      <td>NaN</td>\n",
              "      <td>NaN</td>\n",
              "      <td>NaN</td>\n",
              "      <td>NaN</td>\n",
              "      <td>NaN</td>\n",
              "      <td>NaN</td>\n",
              "      <td>NaN</td>\n",
              "      <td>3.000000</td>\n",
              "      <td>NaN</td>\n",
              "    </tr>\n",
              "    <tr>\n",
              "      <th>75%</th>\n",
              "      <td>NaN</td>\n",
              "      <td>75.000000</td>\n",
              "      <td>NaN</td>\n",
              "      <td>NaN</td>\n",
              "      <td>NaN</td>\n",
              "      <td>NaN</td>\n",
              "      <td>NaN</td>\n",
              "      <td>NaN</td>\n",
              "      <td>NaN</td>\n",
              "      <td>NaN</td>\n",
              "      <td>NaN</td>\n",
              "      <td>NaN</td>\n",
              "      <td>NaN</td>\n",
              "      <td>NaN</td>\n",
              "      <td>NaN</td>\n",
              "      <td>4.000000</td>\n",
              "      <td>NaN</td>\n",
              "    </tr>\n",
              "    <tr>\n",
              "      <th>max</th>\n",
              "      <td>NaN</td>\n",
              "      <td>207.000000</td>\n",
              "      <td>NaN</td>\n",
              "      <td>NaN</td>\n",
              "      <td>NaN</td>\n",
              "      <td>NaN</td>\n",
              "      <td>NaN</td>\n",
              "      <td>NaN</td>\n",
              "      <td>NaN</td>\n",
              "      <td>NaN</td>\n",
              "      <td>NaN</td>\n",
              "      <td>NaN</td>\n",
              "      <td>NaN</td>\n",
              "      <td>NaN</td>\n",
              "      <td>NaN</td>\n",
              "      <td>5.000000</td>\n",
              "      <td>NaN</td>\n",
              "    </tr>\n",
              "  </tbody>\n",
              "</table>\n",
              "</div>"
            ],
            "text/plain": [
              "       choral_ID  event_number     C    C#  ...     B  bass        meter chord_label\n",
              "count       5665   5665.000000  5665  5665  ...  5665  5665  5665.000000        5665\n",
              "unique        60           NaN     2     2  ...     2    16          NaN         102\n",
              "top     002908ch           NaN    NO    NO  ...    NO     D          NaN         D_M\n",
              "freq         207           NaN  3875  4711  ...  3874   689          NaN         503\n",
              "mean         NaN     53.374404   NaN   NaN  ...   NaN   NaN     3.134863         NaN\n",
              "std          NaN     37.268208   NaN   NaN  ...   NaN   NaN     1.109710         NaN\n",
              "min          NaN      1.000000   NaN   NaN  ...   NaN   NaN     1.000000         NaN\n",
              "25%          NaN     24.000000   NaN   NaN  ...   NaN   NaN     2.000000         NaN\n",
              "50%          NaN     48.000000   NaN   NaN  ...   NaN   NaN     3.000000         NaN\n",
              "75%          NaN     75.000000   NaN   NaN  ...   NaN   NaN     4.000000         NaN\n",
              "max          NaN    207.000000   NaN   NaN  ...   NaN   NaN     5.000000         NaN\n",
              "\n",
              "[11 rows x 17 columns]"
            ]
          },
          "metadata": {
            "tags": []
          },
          "execution_count": 8
        }
      ]
    },
    {
      "cell_type": "markdown",
      "metadata": {
        "id": "WxiJZP943Myi"
      },
      "source": [
        "Here I checked to see if there are an NaN values. There are not. Yay."
      ]
    },
    {
      "cell_type": "code",
      "metadata": {
        "colab": {
          "base_uri": "https://localhost:8080/"
        },
        "id": "7O3R_qZdxvec",
        "outputId": "8cbde3bb-e5c4-44a4-ad7c-14ff02da7f54"
      },
      "source": [
        " bach.isnull().values.any()"
      ],
      "execution_count": 9,
      "outputs": [
        {
          "output_type": "execute_result",
          "data": {
            "text/plain": [
              "False"
            ]
          },
          "metadata": {
            "tags": []
          },
          "execution_count": 9
        }
      ]
    },
    {
      "cell_type": "markdown",
      "metadata": {
        "id": "VfzavhIC3SxQ"
      },
      "source": [
        "#Split the Data\r\n",
        "\r\n",
        "I one hot encoded all the columns. This is quite easy for all the note columns, and I just manually changed YES to 1, and NO to 0. The bass column requires a whole bunch of new columns, as it has 16 unique values."
      ]
    },
    {
      "cell_type": "code",
      "metadata": {
        "colab": {
          "base_uri": "https://localhost:8080/",
          "height": 215
        },
        "id": "d3YXB6MFsErh",
        "outputId": "d9386606-35bd-4ddd-f703-d5b69e32dd06"
      },
      "source": [
        "bach = bach.replace(['YES'], 1)\r\n",
        "bach = bach.replace(['NO'], 0)\r\n",
        "\r\n",
        "one_hot = pd.get_dummies(bach['bass'], prefix= 'bass')\r\n",
        "bachs = bach.drop('bass', axis=1)\r\n",
        "bach = bach.join(one_hot)\r\n",
        "\r\n",
        "bach.head()"
      ],
      "execution_count": 10,
      "outputs": [
        {
          "output_type": "execute_result",
          "data": {
            "text/html": [
              "<div>\n",
              "<style scoped>\n",
              "    .dataframe tbody tr th:only-of-type {\n",
              "        vertical-align: middle;\n",
              "    }\n",
              "\n",
              "    .dataframe tbody tr th {\n",
              "        vertical-align: top;\n",
              "    }\n",
              "\n",
              "    .dataframe thead th {\n",
              "        text-align: right;\n",
              "    }\n",
              "</style>\n",
              "<table border=\"1\" class=\"dataframe\">\n",
              "  <thead>\n",
              "    <tr style=\"text-align: right;\">\n",
              "      <th></th>\n",
              "      <th>choral_ID</th>\n",
              "      <th>event_number</th>\n",
              "      <th>C</th>\n",
              "      <th>C#</th>\n",
              "      <th>D</th>\n",
              "      <th>D#</th>\n",
              "      <th>E</th>\n",
              "      <th>F</th>\n",
              "      <th>F#</th>\n",
              "      <th>G</th>\n",
              "      <th>G#</th>\n",
              "      <th>A</th>\n",
              "      <th>A#</th>\n",
              "      <th>B</th>\n",
              "      <th>bass</th>\n",
              "      <th>meter</th>\n",
              "      <th>chord_label</th>\n",
              "      <th>bass_A</th>\n",
              "      <th>bass_A#</th>\n",
              "      <th>bass_Ab</th>\n",
              "      <th>bass_B</th>\n",
              "      <th>bass_Bb</th>\n",
              "      <th>bass_C</th>\n",
              "      <th>bass_C#</th>\n",
              "      <th>bass_D</th>\n",
              "      <th>bass_D#</th>\n",
              "      <th>bass_Db</th>\n",
              "      <th>bass_E</th>\n",
              "      <th>bass_Eb</th>\n",
              "      <th>bass_F</th>\n",
              "      <th>bass_F#</th>\n",
              "      <th>bass_G</th>\n",
              "      <th>bass_G#</th>\n",
              "    </tr>\n",
              "  </thead>\n",
              "  <tbody>\n",
              "    <tr>\n",
              "      <th>0</th>\n",
              "      <td>000106b_</td>\n",
              "      <td>1</td>\n",
              "      <td>1</td>\n",
              "      <td>0</td>\n",
              "      <td>0</td>\n",
              "      <td>0</td>\n",
              "      <td>0</td>\n",
              "      <td>1</td>\n",
              "      <td>0</td>\n",
              "      <td>0</td>\n",
              "      <td>0</td>\n",
              "      <td>1</td>\n",
              "      <td>0</td>\n",
              "      <td>0</td>\n",
              "      <td>F</td>\n",
              "      <td>3</td>\n",
              "      <td>F_M</td>\n",
              "      <td>0</td>\n",
              "      <td>0</td>\n",
              "      <td>0</td>\n",
              "      <td>0</td>\n",
              "      <td>0</td>\n",
              "      <td>0</td>\n",
              "      <td>0</td>\n",
              "      <td>0</td>\n",
              "      <td>0</td>\n",
              "      <td>0</td>\n",
              "      <td>0</td>\n",
              "      <td>0</td>\n",
              "      <td>1</td>\n",
              "      <td>0</td>\n",
              "      <td>0</td>\n",
              "      <td>0</td>\n",
              "    </tr>\n",
              "    <tr>\n",
              "      <th>1</th>\n",
              "      <td>000106b_</td>\n",
              "      <td>2</td>\n",
              "      <td>1</td>\n",
              "      <td>0</td>\n",
              "      <td>0</td>\n",
              "      <td>0</td>\n",
              "      <td>1</td>\n",
              "      <td>0</td>\n",
              "      <td>0</td>\n",
              "      <td>1</td>\n",
              "      <td>0</td>\n",
              "      <td>0</td>\n",
              "      <td>0</td>\n",
              "      <td>0</td>\n",
              "      <td>E</td>\n",
              "      <td>5</td>\n",
              "      <td>C_M</td>\n",
              "      <td>0</td>\n",
              "      <td>0</td>\n",
              "      <td>0</td>\n",
              "      <td>0</td>\n",
              "      <td>0</td>\n",
              "      <td>0</td>\n",
              "      <td>0</td>\n",
              "      <td>0</td>\n",
              "      <td>0</td>\n",
              "      <td>0</td>\n",
              "      <td>1</td>\n",
              "      <td>0</td>\n",
              "      <td>0</td>\n",
              "      <td>0</td>\n",
              "      <td>0</td>\n",
              "      <td>0</td>\n",
              "    </tr>\n",
              "    <tr>\n",
              "      <th>2</th>\n",
              "      <td>000106b_</td>\n",
              "      <td>3</td>\n",
              "      <td>1</td>\n",
              "      <td>0</td>\n",
              "      <td>0</td>\n",
              "      <td>0</td>\n",
              "      <td>1</td>\n",
              "      <td>0</td>\n",
              "      <td>0</td>\n",
              "      <td>1</td>\n",
              "      <td>0</td>\n",
              "      <td>0</td>\n",
              "      <td>0</td>\n",
              "      <td>0</td>\n",
              "      <td>E</td>\n",
              "      <td>2</td>\n",
              "      <td>C_M</td>\n",
              "      <td>0</td>\n",
              "      <td>0</td>\n",
              "      <td>0</td>\n",
              "      <td>0</td>\n",
              "      <td>0</td>\n",
              "      <td>0</td>\n",
              "      <td>0</td>\n",
              "      <td>0</td>\n",
              "      <td>0</td>\n",
              "      <td>0</td>\n",
              "      <td>1</td>\n",
              "      <td>0</td>\n",
              "      <td>0</td>\n",
              "      <td>0</td>\n",
              "      <td>0</td>\n",
              "      <td>0</td>\n",
              "    </tr>\n",
              "    <tr>\n",
              "      <th>3</th>\n",
              "      <td>000106b_</td>\n",
              "      <td>4</td>\n",
              "      <td>1</td>\n",
              "      <td>0</td>\n",
              "      <td>0</td>\n",
              "      <td>0</td>\n",
              "      <td>0</td>\n",
              "      <td>1</td>\n",
              "      <td>0</td>\n",
              "      <td>0</td>\n",
              "      <td>0</td>\n",
              "      <td>1</td>\n",
              "      <td>0</td>\n",
              "      <td>0</td>\n",
              "      <td>F</td>\n",
              "      <td>3</td>\n",
              "      <td>F_M</td>\n",
              "      <td>0</td>\n",
              "      <td>0</td>\n",
              "      <td>0</td>\n",
              "      <td>0</td>\n",
              "      <td>0</td>\n",
              "      <td>0</td>\n",
              "      <td>0</td>\n",
              "      <td>0</td>\n",
              "      <td>0</td>\n",
              "      <td>0</td>\n",
              "      <td>0</td>\n",
              "      <td>0</td>\n",
              "      <td>1</td>\n",
              "      <td>0</td>\n",
              "      <td>0</td>\n",
              "      <td>0</td>\n",
              "    </tr>\n",
              "    <tr>\n",
              "      <th>4</th>\n",
              "      <td>000106b_</td>\n",
              "      <td>5</td>\n",
              "      <td>1</td>\n",
              "      <td>0</td>\n",
              "      <td>0</td>\n",
              "      <td>0</td>\n",
              "      <td>0</td>\n",
              "      <td>1</td>\n",
              "      <td>0</td>\n",
              "      <td>0</td>\n",
              "      <td>0</td>\n",
              "      <td>1</td>\n",
              "      <td>0</td>\n",
              "      <td>0</td>\n",
              "      <td>F</td>\n",
              "      <td>2</td>\n",
              "      <td>F_M</td>\n",
              "      <td>0</td>\n",
              "      <td>0</td>\n",
              "      <td>0</td>\n",
              "      <td>0</td>\n",
              "      <td>0</td>\n",
              "      <td>0</td>\n",
              "      <td>0</td>\n",
              "      <td>0</td>\n",
              "      <td>0</td>\n",
              "      <td>0</td>\n",
              "      <td>0</td>\n",
              "      <td>0</td>\n",
              "      <td>1</td>\n",
              "      <td>0</td>\n",
              "      <td>0</td>\n",
              "      <td>0</td>\n",
              "    </tr>\n",
              "  </tbody>\n",
              "</table>\n",
              "</div>"
            ],
            "text/plain": [
              "  choral_ID  event_number  C  C#  D  ...  bass_Eb  bass_F  bass_F#  bass_G  bass_G#\n",
              "0  000106b_             1  1   0  0  ...        0       1        0       0        0\n",
              "1  000106b_             2  1   0  0  ...        0       0        0       0        0\n",
              "2  000106b_             3  1   0  0  ...        0       0        0       0        0\n",
              "3  000106b_             4  1   0  0  ...        0       1        0       0        0\n",
              "4  000106b_             5  1   0  0  ...        0       1        0       0        0\n",
              "\n",
              "[5 rows x 33 columns]"
            ]
          },
          "metadata": {
            "tags": []
          },
          "execution_count": 10
        }
      ]
    },
    {
      "cell_type": "markdown",
      "metadata": {
        "id": "Rm_eK02OsPXY"
      },
      "source": [
        "Here I split the data with the code from the directions."
      ]
    },
    {
      "cell_type": "code",
      "metadata": {
        "id": "u9sOM807x218"
      },
      "source": [
        "bach.set_index('choral_ID', inplace=True)\r\n",
        "bFeatures = bach.drop('chord_label', axis=1)\r\n",
        "bLabels = bach['chord_label']\r\n",
        "from sklearn.model_selection import train_test_split\r\n",
        "bach_train_features, bach_test_features, bach_train_labels, bach_test_labels = train_test_split(bFeatures, bLabels, test_size = 0.2, random_state=42)"
      ],
      "execution_count": 11,
      "outputs": []
    },
    {
      "cell_type": "markdown",
      "metadata": {
        "id": "jXgRDwDiq4RZ"
      },
      "source": [
        "Lastly, I made a \"features\" list, so I do not have to worry about retyping the full thing every time I need to use it."
      ]
    },
    {
      "cell_type": "code",
      "metadata": {
        "id": "qL25xqmZqyRp"
      },
      "source": [
        "features = ['C', 'C#', 'D', 'D#', 'E', 'F', 'F#', 'G', 'G#', 'A', 'A#', 'B', 'meter', 'bass_A',\t'bass_A#',\t'bass_Ab', 'bass_B',\t\r\n",
        "            'bass_Bb',\t'bass_C',\t'bass_C#', 'bass_D', 'bass_D#', 'bass_Db',\t'bass_E',\t'bass_Eb',\t'bass_F',\t'bass_F#',\t'bass_G',\t'bass_G#']"
      ],
      "execution_count": 12,
      "outputs": []
    },
    {
      "cell_type": "markdown",
      "metadata": {
        "id": "n5zP4nih4A8T"
      },
      "source": [
        "#KNN\r\n",
        "\r\n",
        "Personally, I am not a big fan of KNN classifiers. I like to refer to it as \"baby's first classifier\" as it is easy to understand, but often not very good. I will try it out anyway of course, but I do not predict a very high accuracy. \r\n",
        "\r\n",
        "After a little messing around, the highest accuracy seems to be with 6 neighbors."
      ]
    },
    {
      "cell_type": "code",
      "metadata": {
        "colab": {
          "base_uri": "https://localhost:8080/"
        },
        "id": "nqsU4HLN4CoZ",
        "outputId": "e7237514-32ad-42d2-8f60-52d235568e3c"
      },
      "source": [
        "from sklearn.neighbors import KNeighborsClassifier\r\n",
        "knnbach = KNeighborsClassifier(n_neighbors=6)\r\n",
        "knnbach.fit(bach_train_features[features], bach_train_labels)\r\n",
        "knnbachpredict = knnbach.predict(bach_test_features[features])\r\n",
        "\r\n",
        "from sklearn.metrics import accuracy_score\r\n",
        "knnscore = accuracy_score(knnbachpredict, bach_test_labels)\r\n",
        "knnscore"
      ],
      "execution_count": 13,
      "outputs": [
        {
          "output_type": "execute_result",
          "data": {
            "text/plain": [
              "0.7131509267431597"
            ]
          },
          "metadata": {
            "tags": []
          },
          "execution_count": 13
        }
      ]
    },
    {
      "cell_type": "markdown",
      "metadata": {
        "id": "3KcpbwOwv3UA"
      },
      "source": [
        "Here I tried changing the weights to distance, instead of uniform. This means that the closer a neighbor is, the higher influence it has. This boosted the accuracy up a bit more."
      ]
    },
    {
      "cell_type": "code",
      "metadata": {
        "colab": {
          "base_uri": "https://localhost:8080/"
        },
        "id": "Klp956MXvi-C",
        "outputId": "f1ba3ee0-79ae-4429-b8b4-1829cb209c0c"
      },
      "source": [
        "knnbach = KNeighborsClassifier(n_neighbors=8, weights='distance')\r\n",
        "knnbach.fit(bach_train_features[features], bach_train_labels)\r\n",
        "knnbachpredict = knnbach.predict(bach_test_features[features])\r\n",
        "\r\n",
        "knnscore = accuracy_score(knnbachpredict, bach_test_labels)\r\n",
        "knnscore"
      ],
      "execution_count": 14,
      "outputs": [
        {
          "output_type": "execute_result",
          "data": {
            "text/plain": [
              "0.733451015004413"
            ]
          },
          "metadata": {
            "tags": []
          },
          "execution_count": 14
        }
      ]
    },
    {
      "cell_type": "markdown",
      "metadata": {
        "id": "4MkX1hbwxE5J"
      },
      "source": [
        "Changing the \"algorithm\" hyperparameter or p-value did not seem to help much, so this is about as far as KNN can go without testing all the hyperparameters. 73% is not a bad start at all for KNN. "
      ]
    },
    {
      "cell_type": "markdown",
      "metadata": {
        "id": "ipnfsCj49Vfw"
      },
      "source": [
        "#Naive Bayes\r\n",
        "\r\n",
        "I am a massive fan of Naive Bayes classifiers, so I have really high hopes for this one. "
      ]
    },
    {
      "cell_type": "code",
      "metadata": {
        "colab": {
          "base_uri": "https://localhost:8080/"
        },
        "id": "kcNdBH0Q9VER",
        "outputId": "9b3f0779-fa63-442f-b7ef-d910c2772818"
      },
      "source": [
        "from sklearn.naive_bayes import GaussianNB\r\n",
        "naivebach = GaussianNB()\r\n",
        "naivebach.fit(bach_train_features[features], bach_train_labels)\r\n",
        "naivebachpredict = naivebach.predict(bach_test_features[features])\r\n",
        "\r\n",
        "naivescore = accuracy_score(naivebachpredict, bach_test_labels)\r\n",
        "naivescore"
      ],
      "execution_count": 15,
      "outputs": [
        {
          "output_type": "execute_result",
          "data": {
            "text/plain": [
              "0.08737864077669903"
            ]
          },
          "metadata": {
            "tags": []
          },
          "execution_count": 15
        }
      ]
    },
    {
      "cell_type": "markdown",
      "metadata": {
        "id": "wGo-wAIu1TdV"
      },
      "source": [
        "Well that was disappointing. Let me try to change some hyper parameters."
      ]
    },
    {
      "cell_type": "code",
      "metadata": {
        "colab": {
          "base_uri": "https://localhost:8080/"
        },
        "id": "-aXTPak91Xs-",
        "outputId": "6e76f6ef-d91d-45bc-cb0a-530f1557d187"
      },
      "source": [
        "naivebach = GaussianNB(var_smoothing=0.16)\r\n",
        "naivebach.fit(bach_train_features[features], bach_train_labels)\r\n",
        "naivebachpredict = naivebach.predict(bach_test_features[features])\r\n",
        "\r\n",
        "naivescore = accuracy_score(naivebachpredict, bach_test_labels)\r\n",
        "naivescore"
      ],
      "execution_count": 16,
      "outputs": [
        {
          "output_type": "execute_result",
          "data": {
            "text/plain": [
              "0.6910856134157105"
            ]
          },
          "metadata": {
            "tags": []
          },
          "execution_count": 16
        }
      ]
    },
    {
      "cell_type": "markdown",
      "metadata": {
        "id": "L0zJETeT1bNV"
      },
      "source": [
        "That is better, but still does not beat KNN. Maybe it will work better with a Multinomial Naive Bayes Classifier?"
      ]
    },
    {
      "cell_type": "code",
      "metadata": {
        "colab": {
          "base_uri": "https://localhost:8080/"
        },
        "id": "GWmSa9200tQ5",
        "outputId": "c7c77d57-182d-4b8d-eb54-8e05dc2b9115"
      },
      "source": [
        "from sklearn.naive_bayes import MultinomialNB\r\n",
        "naivebach = MultinomialNB()\r\n",
        "naivebach.fit(bach_train_features[features], bach_train_labels)\r\n",
        "naivebachpredict = naivebach.predict(bach_test_features[features])\r\n",
        "\r\n",
        "naivescore = accuracy_score(naivebachpredict, bach_test_labels)\r\n",
        "naivescore"
      ],
      "execution_count": 17,
      "outputs": [
        {
          "output_type": "execute_result",
          "data": {
            "text/plain": [
              "0.6875551632833187"
            ]
          },
          "metadata": {
            "tags": []
          },
          "execution_count": 17
        }
      ]
    },
    {
      "cell_type": "markdown",
      "metadata": {
        "id": "rxJGse4O15kV"
      },
      "source": [
        "I am disappointed :(\r\n",
        "\r\n",
        "The Naive Bayes classifier caps out around 69% from what I am seeing. It seems as though my favorite classifier is not the best for this."
      ]
    },
    {
      "cell_type": "markdown",
      "metadata": {
        "id": "hJATdLGz4DFh"
      },
      "source": [
        "#Decision Tree\r\n",
        "\r\n",
        "This is a basic decision tree classifier."
      ]
    },
    {
      "cell_type": "code",
      "metadata": {
        "id": "q2YMBduRy2AB",
        "colab": {
          "base_uri": "https://localhost:8080/"
        },
        "outputId": "b6a104d5-215b-401e-e8e7-b1b1e6e708ba"
      },
      "source": [
        "from sklearn import tree\r\n",
        "dtbach = tree.DecisionTreeClassifier(criterion='entropy')\r\n",
        "dtbach.fit(bach_train_features[features], bach_train_labels)\r\n",
        "dtbachpredict = dtbach.predict(bach_test_features[features])\r\n",
        "\r\n",
        "dtscore = accuracy_score(dtbachpredict, bach_test_labels)\r\n",
        "dtscore"
      ],
      "execution_count": 18,
      "outputs": [
        {
          "output_type": "execute_result",
          "data": {
            "text/plain": [
              "0.7175639894086496"
            ]
          },
          "metadata": {
            "tags": []
          },
          "execution_count": 18
        }
      ]
    },
    {
      "cell_type": "markdown",
      "metadata": {
        "id": "BsnRHBJbxlqP"
      },
      "source": [
        "Here I tried the gini as the citerion, which has something to do with Gini impurity. Overall, it worked just slightly better."
      ]
    },
    {
      "cell_type": "code",
      "metadata": {
        "colab": {
          "base_uri": "https://localhost:8080/"
        },
        "id": "sCJHRNQVxaCo",
        "outputId": "64675aee-335c-4507-8a54-cdce3997ecfe"
      },
      "source": [
        "dtbach = tree.DecisionTreeClassifier(criterion='gini')\r\n",
        "dtbach.fit(bach_train_features[features], bach_train_labels)\r\n",
        "dtbachpredict = dtbach.predict(bach_test_features[features])\r\n",
        "\r\n",
        "dtscore = accuracy_score(dtbachpredict, bach_test_labels)\r\n",
        "dtscore"
      ],
      "execution_count": 19,
      "outputs": [
        {
          "output_type": "execute_result",
          "data": {
            "text/plain": [
              "0.7219770520741394"
            ]
          },
          "metadata": {
            "tags": []
          },
          "execution_count": 19
        }
      ]
    },
    {
      "cell_type": "markdown",
      "metadata": {
        "id": "pXv2-LfGx7ew"
      },
      "source": [
        "Surprisingly, I could not get much higher than 72% for a decision tree classifier, no matter what I changed. "
      ]
    },
    {
      "cell_type": "markdown",
      "metadata": {
        "id": "cWOZMWcZ2Wom"
      },
      "source": [
        "#MLP Classifier\r\n",
        "\r\n",
        "I will now try out some other classifiers I found online."
      ]
    },
    {
      "cell_type": "code",
      "metadata": {
        "colab": {
          "base_uri": "https://localhost:8080/"
        },
        "id": "z0nxY6DE2dbI",
        "outputId": "2aebd6a6-05be-4a77-ad4f-2d209f71823b"
      },
      "source": [
        "import warnings\r\n",
        "warnings.filterwarnings('ignore')\r\n",
        "\r\n",
        "from sklearn.neural_network import MLPClassifier\r\n",
        "MLPbach = MLPClassifier()\r\n",
        "MLPbach.fit(bach_train_features[features], bach_train_labels)\r\n",
        "MLPbachpredict = MLPbach.predict(bach_test_features[features])\r\n",
        "\r\n",
        "MLPscore = accuracy_score(MLPbachpredict, bach_test_labels)\r\n",
        "MLPscore"
      ],
      "execution_count": 20,
      "outputs": [
        {
          "output_type": "execute_result",
          "data": {
            "text/plain": [
              "0.735216240070609"
            ]
          },
          "metadata": {
            "tags": []
          },
          "execution_count": 20
        }
      ]
    },
    {
      "cell_type": "markdown",
      "metadata": {
        "id": "nxpfBtJQ3cwM"
      },
      "source": [
        "74% is pretty high right off the bat, wow!\r\n",
        "\r\n",
        "However, I tried changing some more hyper parameters around and not much changed, so I will stick with th 74% accuracy for now. "
      ]
    },
    {
      "cell_type": "markdown",
      "metadata": {
        "id": "L2EkhasE3oWl"
      },
      "source": [
        "#Random Forest Classifier\r\n",
        "\r\n",
        "This is another one of my favortie classifiers, I learned about it in my business analytics class."
      ]
    },
    {
      "cell_type": "code",
      "metadata": {
        "colab": {
          "base_uri": "https://localhost:8080/"
        },
        "id": "o4rclC6d4dh-",
        "outputId": "55650d2e-6a63-4d0c-9e59-3fd713efdfd8"
      },
      "source": [
        "from sklearn.ensemble import RandomForestClassifier\r\n",
        "RFbach = RandomForestClassifier()\r\n",
        "RFbach.fit(bach_train_features[features], bach_train_labels)\r\n",
        "RFbachpredict = RFbach.predict(bach_test_features[features])\r\n",
        "\r\n",
        "RFscore = accuracy_score(RFbachpredict, bach_test_labels)\r\n",
        "RFscore"
      ],
      "execution_count": 21,
      "outputs": [
        {
          "output_type": "execute_result",
          "data": {
            "text/plain": [
              "0.7210944395410415"
            ]
          },
          "metadata": {
            "tags": []
          },
          "execution_count": 21
        }
      ]
    },
    {
      "cell_type": "markdown",
      "metadata": {
        "id": "ChoCofM74i-N"
      },
      "source": [
        "Changing up some hyperparameters..."
      ]
    },
    {
      "cell_type": "code",
      "metadata": {
        "colab": {
          "base_uri": "https://localhost:8080/"
        },
        "id": "2wSgRkps3yDm",
        "outputId": "4ef4e92e-981e-40a9-e211-2e800f30e665"
      },
      "source": [
        "RFbach = RandomForestClassifier(criterion='entropy', max_depth=10)\r\n",
        "RFbach.fit(bach_train_features[features], bach_train_labels)\r\n",
        "RFbachpredict = RFbach.predict(bach_test_features[features])\r\n",
        "\r\n",
        "RFscore = accuracy_score(RFbachpredict, bach_test_labels)\r\n",
        "RFscore"
      ],
      "execution_count": 22,
      "outputs": [
        {
          "output_type": "execute_result",
          "data": {
            "text/plain": [
              "0.7493380406001765"
            ]
          },
          "metadata": {
            "tags": []
          },
          "execution_count": 22
        }
      ]
    },
    {
      "cell_type": "markdown",
      "metadata": {
        "id": "XlC2ADrU4nPP"
      },
      "source": [
        "This hit the highest so far, with 75%+ on some runs.\r\n",
        "\r\n",
        "Because Random Forest is doing so well, I will try it out with a full hyper paramter grid. I mainy used hyperparamters I knew actually affected the data, as many of them seemed to do nothing in this case."
      ]
    },
    {
      "cell_type": "code",
      "metadata": {
        "id": "HxDWqHpAH9Xr"
      },
      "source": [
        "#this took about an hour to process, so I included the results in the section so you do not have to run it. \r\n",
        "from sklearn.model_selection import GridSearchCV\r\n",
        "hyperparam_grid = [{'criterion': ['gini', 'entropy'],\r\n",
        "    'max_depth': [5,10,15, None],\r\n",
        "    'min_samples_split': [1, 2, 5],\r\n",
        "    'min_samples_leaf': [0.1, 1, 2],\r\n",
        "    'max_features':['auto', 'sqrt', 'log2'],\r\n",
        "    'max_leaf_nodes':[None, 5],\r\n",
        "    'n_jobs': [-1, None, 1]}]\r\n",
        "gridsearch = GridSearchCV(RFbach, hyperparam_grid, cv=10)\r\n",
        "gridsearch.fit(bach_train_features[features], bach_train_labels)"
      ],
      "execution_count": null,
      "outputs": []
    },
    {
      "cell_type": "code",
      "metadata": {
        "id": "ZuaPC-v-2JYf"
      },
      "source": [
        "print(gridsearch.best_params_)"
      ],
      "execution_count": null,
      "outputs": []
    },
    {
      "cell_type": "code",
      "metadata": {
        "id": "fonMNokn1h7y"
      },
      "source": [
        "RFbach = RandomForestClassifier(criterion='entropy', max_depth= 10, max_features = 'auto', max_leaf_nodes=None, min_samples_leaf = 1, min_samples_split = 2, n_jobs = None)\r\n",
        "RFbach.fit(bach_train_features[features], bach_train_labels)\r\n",
        "RFbachpredict = RFbach.predict(bach_test_features[features])\r\n",
        "\r\n",
        "RFscore = accuracy_score(RFbachpredict, bach_test_labels)\r\n",
        "RFscore"
      ],
      "execution_count": null,
      "outputs": []
    },
    {
      "cell_type": "markdown",
      "metadata": {
        "id": "SGx7nXZ-PJHf"
      },
      "source": [
        "It turns out that these are all the default settings, meaning that this classifier is likely already optimized. It still scores around 75% accuracy."
      ]
    },
    {
      "cell_type": "markdown",
      "metadata": {
        "id": "joEZ1Zh6HKdT"
      },
      "source": [
        "#Conclusion\r\n",
        "\r\n",
        "I tried a couple other classifiers, but Random Forest was better than all of them, so I chose not to include them. \r\n",
        "\r\n",
        "Clearly I should not have dismissed KNN, as it is one of the better ones in this case. Looking around online, KNN does fairly well against other classifiers, and generally seems to do consistently well. \r\n",
        "\r\n",
        "In the end, it seems like Random Forest is the best in this case. The directions say I should try to get to 85% accuracy, but I have no idea how I would even get that close.\r\n",
        "\r\n",
        "Sources: \r\n",
        "\r\n",
        "List of classifiers: https://scikit-learn.org/stable/supervised_learning.html\r\n",
        "\r\n",
        "Classifier comparison: https://scikit-learn.org/stable/auto_examples/classification/plot_classifier_comparison.html"
      ]
    }
  ]
}